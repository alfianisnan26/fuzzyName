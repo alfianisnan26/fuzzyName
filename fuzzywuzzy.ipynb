{
 "cells": [
  {
   "cell_type": "code",
   "execution_count": 1,
   "id": "6caaef36",
   "metadata": {},
   "outputs": [],
   "source": [
    "import pandas as pd\n",
    "import numpy as np\n",
    "from fuzzywuzzy import fuzz"
   ]
  },
  {
   "cell_type": "code",
   "execution_count": 2,
   "id": "46614000",
   "metadata": {},
   "outputs": [
    {
     "data": {
      "text/html": [
       "<div>\n",
       "<style scoped>\n",
       "    .dataframe tbody tr th:only-of-type {\n",
       "        vertical-align: middle;\n",
       "    }\n",
       "\n",
       "    .dataframe tbody tr th {\n",
       "        vertical-align: top;\n",
       "    }\n",
       "\n",
       "    .dataframe thead th {\n",
       "        text-align: right;\n",
       "    }\n",
       "</style>\n",
       "<table border=\"1\" class=\"dataframe\">\n",
       "  <thead>\n",
       "    <tr style=\"text-align: right;\">\n",
       "      <th></th>\n",
       "      <th>name</th>\n",
       "      <th>npm</th>\n",
       "      <th>class</th>\n",
       "    </tr>\n",
       "  </thead>\n",
       "  <tbody>\n",
       "    <tr>\n",
       "      <th>0</th>\n",
       "      <td>Diaz Ilyasa Azrurrafi Saiful</td>\n",
       "      <td>1806200154</td>\n",
       "      <td>Despro-1</td>\n",
       "    </tr>\n",
       "    <tr>\n",
       "      <th>1</th>\n",
       "      <td>Dio Fajrie Fadlullah</td>\n",
       "      <td>1806200324</td>\n",
       "      <td>Despro-1</td>\n",
       "    </tr>\n",
       "    <tr>\n",
       "      <th>2</th>\n",
       "      <td>Muhammad Miftah Faridh</td>\n",
       "      <td>1806148782</td>\n",
       "      <td>Despro-2</td>\n",
       "    </tr>\n",
       "    <tr>\n",
       "      <th>3</th>\n",
       "      <td>Abdul Fattah Ismail</td>\n",
       "      <td>1806200255</td>\n",
       "      <td>Despro-2</td>\n",
       "    </tr>\n",
       "    <tr>\n",
       "      <th>4</th>\n",
       "      <td>Helmi Arrazy</td>\n",
       "      <td>1806200141</td>\n",
       "      <td>Despro-1</td>\n",
       "    </tr>\n",
       "  </tbody>\n",
       "</table>\n",
       "</div>"
      ],
      "text/plain": [
       "                           name         npm     class\n",
       "0  Diaz Ilyasa Azrurrafi Saiful  1806200154  Despro-1\n",
       "1          Dio Fajrie Fadlullah  1806200324  Despro-1\n",
       "2        Muhammad Miftah Faridh  1806148782  Despro-2\n",
       "3           Abdul Fattah Ismail  1806200255  Despro-2\n",
       "4                  Helmi Arrazy  1806200141  Despro-1"
      ]
     },
     "execution_count": 2,
     "metadata": {},
     "output_type": "execute_result"
    }
   ],
   "source": [
    "dataset=pd.read_csv(\"dataset.csv\",header = 0)\n",
    "dataset.head()"
   ]
  },
  {
   "cell_type": "code",
   "execution_count": 3,
   "id": "225ea215",
   "metadata": {},
   "outputs": [],
   "source": [
    "from fuzzywuzzy import fuzz\n",
    "\n",
    "def fuzzScore(dataset, namecol, datainput):\n",
    "    dataset['scoreRatio'] = 0\n",
    "    dataset['scoreSet'] = 0\n",
    "    dataset['scoreSort'] = 0\n",
    "    for index, rows in dataset.iterrows():\n",
    "        data = rows[namecol]\n",
    "        dataset.loc[index, 'scoreSort']   = fuzz.token_sort_ratio(data, datainput)\n",
    "        dataset.loc[index, 'scoreSet']    = fuzz.token_set_ratio(data, datainput)\n",
    "        dataset.loc[index, 'scoreRatio']  = fuzz.ratio(data, datainput)\n",
    "    return dataset"
   ]
  },
  {
   "cell_type": "code",
   "execution_count": 4,
   "id": "a5095d16",
   "metadata": {},
   "outputs": [],
   "source": [
    "def getFullname(dataset, namecol, datainput):\n",
    "    check = fuzzScore(dataset, namecol, datainput)\n",
    "    tester = {'type': [\n",
    "        'scoreRatio',\n",
    "        'scoreSet',\n",
    "        'scoreSort',\n",
    "        ],\n",
    "        'score':0,\n",
    "        'values':0\n",
    "        }\n",
    "    df = pd.DataFrame(tester, columns = ['type', 'score','values'])\n",
    "    for index, test in df.iterrows():\n",
    "        check.sort_values(by = test.type, ascending=False, ignore_index=True, inplace=True)\n",
    "        df.loc[index, 'score'] =check[test.type][0]\n",
    "        df.loc[index, 'values'] = str(check.head()[namecol].tolist())\n",
    "    df.sort_values(by = 'score', ascending=False, ignore_index=True, inplace=True)\n",
    "    fullName = df['values'][0].replace('\\'','')[1:-1].split(',')[0]\n",
    "    return fullName, df"
   ]
  },
  {
   "cell_type": "code",
   "execution_count": 5,
   "id": "3a2f1f65",
   "metadata": {},
   "outputs": [
    {
     "name": "stdout",
     "output_type": "stream",
     "text": [
      "Best Output : Mohammad Salman Alfarisi\n",
      "         type  score                                             values\n",
      "0    scoreSet    100  ['Mohammad Salman Alfarisi', 'Alfian Badrul Is...\n",
      "1  scoreRatio     58  ['Natalia Kristian', 'Mohammad Salman Alfarisi...\n",
      "2   scoreSort     52  ['Alfian Badrul Isnan', 'Abdul Fattah Ismail',...\n"
     ]
    }
   ],
   "source": [
    "inputName = 'alfarisi'\n",
    "fullname, val = getFullname(dataset, 'name', inputName)\n",
    "print('Best Output : ' + fullname)\n",
    "print(val)"
   ]
  },
  {
   "cell_type": "code",
   "execution_count": 11,
   "id": "e413a2dd",
   "metadata": {},
   "outputs": [],
   "source": [
    "def dataFillFullName(datasetbase, namecol, inputdataset, nicknamecol, fullnamecol, state):\n",
    "    inputdata = inputdataset.copy()\n",
    "    dataset = datasetbase.copy()\n",
    "    inputdata[fullnamecol] = 0\n",
    "    length = len(inputdata)\n",
    "    for index, rows in inputdata.iterrows():\n",
    "        out, var = getFullname(dataset, namecol, rows[nicknamecol])\n",
    "        inputdata.loc[index, fullnamecol] = out\n",
    "        if(state):print('Check : ' + str(index + 1) + '/' + str(length) + ' | ' + rows[nicknamecol] + ' ~ ' + out)\n",
    "    return inputdata"
   ]
  },
  {
   "cell_type": "code",
   "execution_count": 21,
   "id": "dc04cad7",
   "metadata": {},
   "outputs": [],
   "source": [
    "def dataFillCheckError(datatest, namecol, testcol, dataoutput, nicknamecol, fullnamecol, check):\n",
    "    length = len(dataoutput)\n",
    "    passed = 0\n",
    "    for index, output in dataoutput.iterrows():\n",
    "        scan = datatest.loc[datatest[testcol] == output[nicknamecol]][namecol].tolist()[0]\n",
    "        if(scan == output[fullnamecol]):\n",
    "            passed+=1\n",
    "            if(check): print('PASS ' + str(passed) + '/' + str(length))\n",
    "        elif(check):\n",
    "            print('----------------------------------')\n",
    "            print('FAILED on : ' + str(index))\n",
    "            print('NickName  : ' + output[nicknamecol])\n",
    "            print('Output    : ' + output[fullnamecol])\n",
    "            print('Original  : ' + scan)\n",
    "            print('----------------------------------')\n",
    "    return 'Error  : {:.2f}%'.format((length-passed)/length*100)"
   ]
  },
  {
   "cell_type": "code",
   "execution_count": 16,
   "id": "1d08ae2e",
   "metadata": {},
   "outputs": [
    {
     "data": {
      "text/html": [
       "<div>\n",
       "<style scoped>\n",
       "    .dataframe tbody tr th:only-of-type {\n",
       "        vertical-align: middle;\n",
       "    }\n",
       "\n",
       "    .dataframe tbody tr th {\n",
       "        vertical-align: top;\n",
       "    }\n",
       "\n",
       "    .dataframe thead th {\n",
       "        text-align: right;\n",
       "    }\n",
       "</style>\n",
       "<table border=\"1\" class=\"dataframe\">\n",
       "  <thead>\n",
       "    <tr style=\"text-align: right;\">\n",
       "      <th></th>\n",
       "      <th>name</th>\n",
       "      <th>test1</th>\n",
       "      <th>test2</th>\n",
       "      <th>test3</th>\n",
       "      <th>test4</th>\n",
       "      <th>test5</th>\n",
       "    </tr>\n",
       "  </thead>\n",
       "  <tbody>\n",
       "    <tr>\n",
       "      <th>0</th>\n",
       "      <td>Diaz Ilyasa Azrurrafi Saiful</td>\n",
       "      <td>diaz</td>\n",
       "      <td>dias</td>\n",
       "      <td>diyaz</td>\n",
       "      <td>diyas</td>\n",
       "      <td>saeful</td>\n",
       "    </tr>\n",
       "    <tr>\n",
       "      <th>1</th>\n",
       "      <td>Dio Fajrie Fadlullah</td>\n",
       "      <td>dio</td>\n",
       "      <td>deo</td>\n",
       "      <td>diyo</td>\n",
       "      <td>fajri</td>\n",
       "      <td>fadlul</td>\n",
       "    </tr>\n",
       "    <tr>\n",
       "      <th>2</th>\n",
       "      <td>Muhammad Miftah Faridh</td>\n",
       "      <td>miptah</td>\n",
       "      <td>farid</td>\n",
       "      <td>farit</td>\n",
       "      <td>miptah farid</td>\n",
       "      <td>parid</td>\n",
       "    </tr>\n",
       "    <tr>\n",
       "      <th>3</th>\n",
       "      <td>Abdul Fattah Ismail</td>\n",
       "      <td>abdol</td>\n",
       "      <td>pattah</td>\n",
       "      <td>fatah</td>\n",
       "      <td>fatta</td>\n",
       "      <td>patta</td>\n",
       "    </tr>\n",
       "    <tr>\n",
       "      <th>4</th>\n",
       "      <td>Helmi Arrazy</td>\n",
       "      <td>helmy</td>\n",
       "      <td>halmi</td>\n",
       "      <td>helm</td>\n",
       "      <td>elmi</td>\n",
       "      <td>arasi</td>\n",
       "    </tr>\n",
       "  </tbody>\n",
       "</table>\n",
       "</div>"
      ],
      "text/plain": [
       "                           name   test1   test2  test3         test4   test5\n",
       "0  Diaz Ilyasa Azrurrafi Saiful    diaz    dias  diyaz         diyas  saeful\n",
       "1          Dio Fajrie Fadlullah     dio     deo   diyo         fajri  fadlul\n",
       "2        Muhammad Miftah Faridh  miptah   farid  farit  miptah farid   parid\n",
       "3           Abdul Fattah Ismail   abdol  pattah  fatah         fatta   patta\n",
       "4                  Helmi Arrazy   helmy   halmi   helm          elmi   arasi"
      ]
     },
     "execution_count": 16,
     "metadata": {},
     "output_type": "execute_result"
    }
   ],
   "source": [
    "dataTest=pd.read_csv(\"datatest.csv\",header = 0)\n",
    "dataTest.head()"
   ]
  },
  {
   "cell_type": "code",
   "execution_count": 19,
   "id": "80fd5c0e",
   "metadata": {},
   "outputs": [],
   "source": [
    "test1 = dataFillFullName(dataTest, 'name', dataTest, 'test1', 'NAMA LENGKAP', False)\n",
    "test2 = dataFillFullName(dataTest, 'name', dataTest, 'test2', 'NAMA LENGKAP', False)\n",
    "test3 = dataFillFullName(dataTest, 'name', dataTest, 'test3', 'NAMA LENGKAP', False)\n",
    "test4 = dataFillFullName(dataTest, 'name', dataTest, 'test4', 'NAMA LENGKAP', False)"
   ]
  },
  {
   "cell_type": "code",
   "execution_count": 22,
   "id": "e474362c",
   "metadata": {},
   "outputs": [
    {
     "name": "stdout",
     "output_type": "stream",
     "text": [
      "Error  : 47.76%\n",
      "Error  : 56.72%\n",
      "Error  : 61.19%\n",
      "Error  : 47.76%\n"
     ]
    }
   ],
   "source": [
    "print(dataFillCheckError(dataTest, 'name', 'test1', test1, 'test1', 'NAMA LENGKAP', False))\n",
    "print(dataFillCheckError(dataTest, 'name', 'test2', test2, 'test2', 'NAMA LENGKAP', False))\n",
    "print(dataFillCheckError(dataTest, 'name', 'test3', test3, 'test3', 'NAMA LENGKAP', False))\n",
    "print(dataFillCheckError(dataTest, 'name', 'test4', test4, 'test4', 'NAMA LENGKAP', False))"
   ]
  },
  {
   "cell_type": "code",
   "execution_count": 23,
   "id": "4e4a8681",
   "metadata": {},
   "outputs": [
    {
     "data": {
      "text/html": [
       "<div>\n",
       "<style scoped>\n",
       "    .dataframe tbody tr th:only-of-type {\n",
       "        vertical-align: middle;\n",
       "    }\n",
       "\n",
       "    .dataframe tbody tr th {\n",
       "        vertical-align: top;\n",
       "    }\n",
       "\n",
       "    .dataframe thead th {\n",
       "        text-align: right;\n",
       "    }\n",
       "</style>\n",
       "<table border=\"1\" class=\"dataframe\">\n",
       "  <thead>\n",
       "    <tr style=\"text-align: right;\">\n",
       "      <th></th>\n",
       "      <th>NAMA ACAK</th>\n",
       "      <th>NAMA LENGKAP</th>\n",
       "    </tr>\n",
       "  </thead>\n",
       "  <tbody>\n",
       "    <tr>\n",
       "      <th>0</th>\n",
       "      <td>diaz</td>\n",
       "      <td>NaN</td>\n",
       "    </tr>\n",
       "    <tr>\n",
       "      <th>1</th>\n",
       "      <td>dio</td>\n",
       "      <td>NaN</td>\n",
       "    </tr>\n",
       "    <tr>\n",
       "      <th>2</th>\n",
       "      <td>miptah</td>\n",
       "      <td>NaN</td>\n",
       "    </tr>\n",
       "    <tr>\n",
       "      <th>3</th>\n",
       "      <td>abdol</td>\n",
       "      <td>NaN</td>\n",
       "    </tr>\n",
       "    <tr>\n",
       "      <th>4</th>\n",
       "      <td>helmy</td>\n",
       "      <td>NaN</td>\n",
       "    </tr>\n",
       "  </tbody>\n",
       "</table>\n",
       "</div>"
      ],
      "text/plain": [
       "  NAMA ACAK  NAMA LENGKAP\n",
       "0      diaz           NaN\n",
       "1       dio           NaN\n",
       "2    miptah           NaN\n",
       "3     abdol           NaN\n",
       "4     helmy           NaN"
      ]
     },
     "execution_count": 23,
     "metadata": {},
     "output_type": "execute_result"
    }
   ],
   "source": [
    "inputData=pd.read_csv(\"input.csv\",header = 0)\n",
    "inputData.head()"
   ]
  },
  {
   "cell_type": "code",
   "execution_count": 25,
   "id": "06f2000a",
   "metadata": {},
   "outputs": [
    {
     "name": "stdout",
     "output_type": "stream",
     "text": [
      "Error  : 47.76%\n"
     ]
    },
    {
     "data": {
      "text/html": [
       "<div>\n",
       "<style scoped>\n",
       "    .dataframe tbody tr th:only-of-type {\n",
       "        vertical-align: middle;\n",
       "    }\n",
       "\n",
       "    .dataframe tbody tr th {\n",
       "        vertical-align: top;\n",
       "    }\n",
       "\n",
       "    .dataframe thead th {\n",
       "        text-align: right;\n",
       "    }\n",
       "</style>\n",
       "<table border=\"1\" class=\"dataframe\">\n",
       "  <thead>\n",
       "    <tr style=\"text-align: right;\">\n",
       "      <th></th>\n",
       "      <th>NAMA ACAK</th>\n",
       "      <th>NAMA LENGKAP</th>\n",
       "    </tr>\n",
       "  </thead>\n",
       "  <tbody>\n",
       "    <tr>\n",
       "      <th>0</th>\n",
       "      <td>diaz</td>\n",
       "      <td>Diaz Ilyasa Azrurrafi Saiful</td>\n",
       "    </tr>\n",
       "    <tr>\n",
       "      <th>1</th>\n",
       "      <td>dio</td>\n",
       "      <td>Dio Fajrie Fadlullah</td>\n",
       "    </tr>\n",
       "    <tr>\n",
       "      <th>2</th>\n",
       "      <td>miptah</td>\n",
       "      <td>Dimas Radhitya</td>\n",
       "    </tr>\n",
       "    <tr>\n",
       "      <th>3</th>\n",
       "      <td>abdol</td>\n",
       "      <td>Bryan Oliver</td>\n",
       "    </tr>\n",
       "    <tr>\n",
       "      <th>4</th>\n",
       "      <td>helmy</td>\n",
       "      <td>Sherly</td>\n",
       "    </tr>\n",
       "  </tbody>\n",
       "</table>\n",
       "</div>"
      ],
      "text/plain": [
       "  NAMA ACAK                  NAMA LENGKAP\n",
       "0      diaz  Diaz Ilyasa Azrurrafi Saiful\n",
       "1       dio          Dio Fajrie Fadlullah\n",
       "2    miptah                Dimas Radhitya\n",
       "3     abdol                  Bryan Oliver\n",
       "4     helmy                        Sherly"
      ]
     },
     "execution_count": 25,
     "metadata": {},
     "output_type": "execute_result"
    }
   ],
   "source": [
    "outputData = dataFillFullName(dataTest, 'name', inputData, 'NAMA ACAK', 'NAMA LENGKAP', False)\n",
    "print(dataFillCheckError(dataTest, 'name', 'test1', outputData, 'NAMA ACAK', 'NAMA LENGKAP', False))\n",
    "outputData.head()"
   ]
  },
  {
   "cell_type": "code",
   "execution_count": 26,
   "id": "0290f069",
   "metadata": {},
   "outputs": [],
   "source": [
    "#outputData.to_csv(r'export\\output.csv', index = False)"
   ]
  }
 ],
 "metadata": {
  "kernelspec": {
   "display_name": "Python 3",
   "language": "python",
   "name": "python3"
  },
  "language_info": {
   "codemirror_mode": {
    "name": "ipython",
    "version": 3
   },
   "file_extension": ".py",
   "mimetype": "text/x-python",
   "name": "python",
   "nbconvert_exporter": "python",
   "pygments_lexer": "ipython3",
   "version": "3.9.4"
  }
 },
 "nbformat": 4,
 "nbformat_minor": 5
}
